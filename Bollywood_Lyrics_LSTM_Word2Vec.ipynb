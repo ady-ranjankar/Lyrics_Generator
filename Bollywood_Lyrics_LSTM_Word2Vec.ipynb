{
 "cells": [
  {
   "cell_type": "code",
   "execution_count": 1,
   "metadata": {},
   "outputs": [],
   "source": [
    "import gensim\n",
    "f = open('C:/Users/adity/Downloads/Yo Yo Honey Singh.txt', 'r')\n",
    "docs=f.read().split(\"\\n\")\n"
   ]
  },
  {
   "cell_type": "code",
   "execution_count": 19,
   "metadata": {},
   "outputs": [
    {
     "name": "stdout",
     "output_type": "stream",
     "text": [
      "Num sentences: 645\n",
      "[[], [], ['l-ungi'], ['king', 'khan'], ['yo', 'yo', 'honey', 'singh'], [], ['muchho', 'ko', 'thoda', 'round', 'ghumake'], ['anna', 'ke', 'jaise', 'chashma', 'laga', 'ke'], ['coconut', 'me', 'lassi', 'mila', 'ke'], ['aa', 'jao', 'saare', 'mood', 'banaake'], [], ['mucho', 'ko', 'thoda', 'round', 'ghumake'], ['anna', 'ke', 'jaisa', 'chashma', 'lagaake'], ['coconut', 'mai', 'lasi', 'milaake'], ['aajao', 'saare', 'mood', 'banaake'], [], ['all', 'the', 'rajni', 'fans'], ['dont', 'miss', 'the', 'chance'], ['all', 'the', 'rajni', 'fans'], ['dont', 'miss', 'the', 'chance'], ['who', 'is', 'this?'], [], ['lungi', 'dance,', 'lungi', 'dance'], ['lungi', 'dance,', 'lungi', 'dance'], ['lungi', 'dance,', 'lungi', 'dance,'], ['lungi', 'dance,', 'lungi', 'dance', '-', '[2]'], [], ['jado', 'jawaani', 'badaa', 'jor', 'seeve', 'jaad', 'ma'], ['main', 'ta', 'rajni', 'daa', 'fan', 'seeve', 'daad', 'ma'], ['jado', 'jawaani', 'badaa', 'jor', 'seeve', 'jaad', 'ma'], ['main', 'ta', 'rajni', 'daa', 'fan', 'seeve', 'daad', 'ma'], [], ['disco', 'me', 'jab', 'yeh', 'gaana', 'bajega'], ['on', 'the', 'floor', 'aana', 'padega'], ['lungi', 'ko', 'uthana', 'padega'], ['step', 'karke', 'dekhana', 'padega', '-', '[2]'], [], ['all', 'the', 'rajni', 'fans'], ['dont', 'miss', 'the', 'chance'], ['all', 'the', 'rajni', 'fans'], ['dont', 'miss', 'the', 'chance'], [], ['lungi', 'dance,', 'lungi', 'dance'], ['lungi', 'dance,', 'lungi', 'dance'], ['lungi', 'dance,', 'lungi', 'dance,'], ['lungi', 'dance,', 'lungi', 'dance', '-', '[2]'], [], ['night', 'club', 'me', 'aaya', 'main', 'toh'], ['mujhko', 'rokega', 'kaun', 'aur', 'kaiko'], ['mera', 'mood', 'main', 'dance', 'karega'], ['kisika', 'daddy', 'sai', 'ni', 'darega'], [], ['jisko', 'jo', 'bhi', 'hai', 'karna', 'woh', 'karlo'], ['idhar', 'he', 'main', 'hoon', 'khada', 'pakadlo'], ['ghar', 'pe', 'jaakar', 'tum', 'google', 'karlo'], ['mere', 'baare', 'me', 'wikipedia', 'pe', 'padhlo'], [], ['lungi', 'dance,', 'lungi', 'dance,'], ['lungi', 'dance,', 'lungi', 'dance'], ['lungi', 'dance,', 'lungi', 'dance,'], ['lungi', 'dance,', 'lungi', 'dance', '-', '[2]'], [], ['kon', 'mujhsa', 'hai', 'kon'], ['oh', 'baby', 'yes', 'am', 'a', 'don'], ['nahi', 'milega', 'mujhsa', 'go', 'find', 'it!'], ['dont', 'angry', 'me', 'mind', 'it!'], [], ['arey', 'mera', 'jaisa', 'dance', 'kisko', 'aata', 'hai'], ['choreographer', 'ko', 'main', 'hi', 'sikhata', 'hai'], ['woh', 'ghar', 'pe', 'aata', 'hai,'], ['mujhse', 'seekh', 'ke', 'jaata', 'hai'], ['mujhse', 'seekh', 'ke', 'woh,'], ['logon', 'ko', 'sikhata', 'hai'], [], [], ['lungi', 'dance,', 'lungi', 'dance,'], ['lungi', 'dance,', 'lungi', 'dance'], ['lungi', 'dance,', 'lungi', 'dance,'], ['lungi', 'dance,', 'lungi', 'dance', '-', '[2]'], [], ['mucho', 'ko', 'thoda', 'round', 'ghumake'], ['anna', 'ke', 'jaisa', 'chashma', 'lagaake'], ['coconut', 'mai', 'lasi', 'milaake'], ['aajao', 'saare', 'mood', 'banaake', '-', '[2]'], [], ['all', 'the', 'rajni', 'fans'], ['dont', 'miss', 'the', 'chance'], ['all', 'the', 'rajni', 'fans'], ['dont', 'miss', 'the', 'chance'], ['who', 'is', 'this?'], [], ['lungi', 'dance,', 'lungi', 'dance,'], ['lungi', 'dance,', 'lungi', 'dance'], ['lungi', 'dance,', 'lungi', 'dance,'], ['lungi', 'dance,', 'lungi', 'dance', '-', '[2]'], [], ['yo', 'yo', 'honey', 'singh'], ['king', 'khan'], ['channai', 'express'], [], [], [], ['aaj', 'blue', 'hai', 'paani'], ['paani', 'pani', 'pani', 'paani', 'paani'], ['aur', 'din', 'bhi', 'sunny'], ['sunny', 'sunny', 'sunny', 'sunny', 'sunny'], ['aajaao', 'on', 'the', 'beach', 'yaar'], ['photo', 'meri', 'khinch,', 'phooti', 'kismat', 'hogi', 'teri'], ['gar', 'tune', 'yeh', 'baat', 'na', 'maani..'], [], ['aaj', 'blue', 'hai', 'paani'], ['paani', 'pani', 'pani', 'paani', 'paani'], ['aur', 'din', 'bhi', 'sunny'], ['sunny', 'sunny', 'sunny', 'sunny', 'sunny'], ['aajaao', 'on', 'the', 'beach', 'yaar'], ['photo', 'meri', 'khinch,', 'phooti', 'kismat', 'hogi', 'teri'], ['gar', 'tune', 'yeh', 'baat', 'na', 'maani..'], [], ['a', 'ho..', 'o', 'ho..', 'o', 'ho..'], [], ['sunset', 'ka', 'time', 'ho'], ['thandi', 'thandi', 'ret', 'ho'], [\"let's\", 'go', 'to', 'party', 'yaara'], ['mujhse', 'na', 'ab', 'wait', 'ho'], ['music', 'chala', 'do'], ['shuru', 'karo', 'party', 'ho', 'gayi', 'der'], ['bottle', 'pila', 'do', 'mujhko'], ['bas', 'phir', 'yaara,', 'i', \"don't\", 'care'], [], ['aaj', 'blue', 'hai', 'paani'], ['paani', 'pani', 'pani', 'paani', 'paani'], ['aur', 'din', 'bhi', 'sunny'], ['sunny', 'sunny', 'sunny', 'sunny', 'sunny'], ['aajaao', 'on', 'the', 'beach', 'yaar'], ['photo', 'meri', 'khinch,', 'phooti', 'kismat', 'hogi', 'teri'], ['gar', 'tune', 'yeh', 'baat', 'na', 'maani..'], [], ['aaj', 'blue', 'hai', 'paani'], ['paani', 'pani', 'pani', 'paani', 'paani'], ['aur', 'din', 'bhi', 'sunny'], ['sunny', 'sunny', 'sunny', 'sunny', 'sunny'], ['aajaao', 'on', 'the', 'beach', 'yaar'], ['photo', 'meri', 'khinch,', 'phooti', 'kismat', 'hogi', 'teri'], ['gar', 'tune', 'yeh', 'baat', 'na', 'maani..'], [], ['a', 'ho..', 'o', 'ho..', 'o', 'ho..'], [], ['e', 'e', 'he', 'he', 'he..'], ['tera', 'pyaar..', 'aa', 'haa..'], [\"that's\", 'all', 'i', 'need..'], ['o', 'mere', 'yaar..', 'aa', 'haa..'], [], ['ek', 'tu', 'ho,', 'mein', 'hoon'], ['aur', 'sea', 'side', 'pe', 'paani', 'ka', 'shor'], ['aaja', 'meri', 'baahon', 'me'], ['girl', 'what', 'you', 'waiting', 'for'], ['tujhko', 'me', 'leke', 'chalun'], ['phir', 'pyaari', 'si', 'yacht', 'pe'], ['ho', 'jaayenge', 'hum', 'talli', 'malibu', 'ke', 'shot', 'pe'], [], ['/'], [], ['aaj', 'blue', 'hai', 'paani'], ['paani', 'pani', 'pani', 'paani', 'paani'], ['aur', 'din', 'bhi', 'sunny'], ['sunny', 'sunny', 'sunny', 'sunny', 'sunny'], ['aajaao', 'on', 'the', 'beach', 'yaar'], ['photo', 'meri', 'khinch,', 'phooti', 'kismat', 'hogi', 'teri'], ['gar', 'tune', 'yeh', 'baat', 'na', 'maani..'], [], ['aaj', 'blue', 'hai', 'paani'], ['paani', 'pani', 'pani', 'paani', 'paani'], ['aur', 'din', 'bhi', 'sunny'], ['sunny', 'sunny', 'sunny', 'sunny', 'sunny'], ['aajaao', 'on', 'the', 'beach', 'yaar'], ['photo', 'meri', 'khinch,', 'phooti', 'kismat', 'hogi', 'teri'], ['gar', 'tune', 'yeh', 'baat', 'na', 'maani..'], [], ['a', 'ho..', 'o', 'ho..', 'o', 'ho..'], ['a', 'ho..', 'o', 'ho..', 'o', 'ho...'], [], [], [], ['yaar', 'tera', 'superstar', 'desi', 'kalakaar'], ['main', 'putt', 'jatt', 'da', 'manda', 'ni', 'haar'], ['yaar', 'tera', 'superstar', 'desi', 'kalakaar'], ['main', 'putt', 'jatt', 'da', 'manda', 'ni', 'haar'], [], ['duniya', 'ki', 'sochungi', 'saade', 'baare'], ['eh', 'gal', 'billo', 'chhad', 'de,', 'chhad', 'de,', 'chhad', 'de'], ['apne', 'tu', 'mummy', 'daddy', 'da', 'vi', 'darr'], ['dil', 'ton', 'hun', 'kad', 'de,', 'kad', 'de', '-', '[2]'], [], ['tu', 'meri', 'heer,', 'meine', 'dil', 'se', 'maana', 'tujhe'], ['har', 'veervar', 'peer', 'baba', 'se', 'bhi', 'manga', 'tujhe'], ['yaar', 'tera', 'superstar,', 'desi', 'kalakaar'], ['main', 'putt', 'jatt', 'da', 'manda', 'ni', 'haar'], ['yaar', 'tera', 'superstar,', 'desi', 'kalakaar'], ['main', 'putt', 'jatt', 'da', 'manda', 'ni', 'haar'], [], ['kad', 'ke', 'vi', 'le', 'jaavan', 'tu', 'keh', 'tan', 'ek', 'vaar'], ['ho', 'main', 'putt', 'jatt', 'da', 'hun', 'piche', 'naiyo', 'hatda'], [], ['duniya', 'ki', 'sochugi', 'saade', 'baare'], ['ae', 'gal', 'billo', 'chhad', 'de,', 'chhad', 'de,', 'chhad', 'de'], ['apne', 'tu', 'mummy-daddy', 'da', 'vi', 'darr'], ['dil', 'ton', 'hun', 'kad', 'de,', 'kad', 'de', '-', '[2]'], [], ['yaar', 'tera', 'superstar,', 'superstar'], ['yaar', 'tera', 'superstar,', 'superstar'], ['main', 'putt', 'jatt', 'da', 'manda', 'ni', 'haar'], ['yaar', 'tera', 'superstar,', 'manda', 'ni', 'haar'], [], ['tu', 'mere', 'nede,', 'nede', 'nahi'], ['tere', 'bin', 'mera', 'jee', 'lagda', 'nahi'], ['muk', 'chali', 'jind', 'meri', 'der', 'na', 'gayi..'], [], ['baby', 'are', 'you', 'alright'], ['kar', 'deni', 'hal', 'main', 'saari', 'mushkil'], ['rakh', 'yaqeen,', 'just', 'chill'], ['jehda', 'aaya', 'saade', 'vich,', 'i', 'gonna', 'kill'], [], ['baby', 'are', 'you', 'alright?'], [], ['yaar', 'tera', 'superstar', 'desi', 'kalakaar'], ['main', 'putt', 'jatt', 'da', 'manda', 'ni', 'haar'], ['yaar', 'tera', 'superstar', 'desi', 'kalakaar'], ['main', 'putt', 'jatt', 'da', 'manda', 'ni', 'haar'], [], ['duniya', 'ki', 'sochugi', 'saade', 'baare'], ['eh', 'gal', 'billo', 'chhad', 'de,', 'chhad', 'de,', 'chhad', 'de'], ['apne', 'tu', 'mummy-daddy', 'da', 'vi', 'darr'], ['dil', 'ton', 'hun', 'kad', 'de,', 'kad', 'de'], [], [], [], ['aaa', 'aa', 'aa..'], ['ek', 'kaam', 'kar,', 'khol', 'locker'], ['kadd', 'pehe', 'phir', 'lock', 'kar'], ['phone', 'rakh', 'leya', 'but', 'pulli', 'na', 'charger'], ['hun', 'ek', 'bag', 'taiyar', 'kar'], ['taiyar', 'kar,', 'kar', 'na..'], [], ['gal', 'sun,', 'hold', 'on,', 'easy', 'dar', 'na'], ['take', 'you', 'id,', 'your', 'passport'], ['credit', 'card,', 'pass', 'code'], ['zipper,', 'your', 'slipper'], ['your', 'fridge', 'te', 'lageya', 'sticker'], ['your', 'glossy', 'lipper'], ['mere', 'lai', 'some', 'liquor'], ['kar', 'na', 'koi', 'fikar'], ['just', 'do', 'it,', 'everything', 'quicker'], [], ['hun', 'apne', 'tu', 'piyo', 'de', 'kamre', 'nu', 'la', 'de', 'kundi'], ['naal', 'mere', 'lai', 'pack', 'kar'], ['thodi', 'roti', 'te', 'bhindi'], ['aaj', 'rab', 'ne', 'sukh', 'naal', 'saara', 'kaam', 'banata', 'ae'], ['tere', 'maa-paa', 'nu', 'vi', 'time', 'se', 'suaata', 'ae'], ['tere', 'doggy', 'nu', 'main'], ['nashe', 'waala', 'biscuit', 'paata', 'ae'], [], [], ['excited', 'main', 'edda,', 'excited', 'main', 'edda'], ['excited', 'main', 'edda'], ['honeymoon', 'package', 'book', 'kara', 'ta', 'yi'], ['excited', 'main', 'edda'], ['honeymoon', 'package', 'book', 'kara', 'ta', 'yi'], [], ['yaar', 'tera', 'superstar', 'desi', 'kalakar'], ['main', 'putt', 'jatt', 'da', 'manda', 'ni', 'haar'], ['yaar', 'tera', 'superstar', 'desi', 'kalakar'], ['main', 'putt', 'jatt', 'da', 'manda', 'ni', 'haar'], [], ['tu', 'meri', 'heer,', 'maine', 'dil', 'se', 'maana', 'tujhe'], ['har', 'veervar', 'peer', 'baba', 'se', 'bhi', 'maanga', 'tujhe'], ['yaar', 'tera', 'superstar', 'desi', 'kalakar'], ['main', 'putt', 'jatt', 'da', 'manda', 'ni', 'haar'], ['yaar', 'tera', 'superstar', 'superstar...'], [], ['duniya', 'ki', 'sochugi', 'saade', 'baare'], ['eh', 'gal', 'billo', 'chhad', 'de,', 'chhad', 'de,', 'chhad', 'de'], ['apne', 'tu', 'mummy-daddy', 'da', 'vi', 'darr'], ['dil', 'ton', 'hun', 'kad', 'de,', 'kad', 'de', '-', '[2]'], [], ['yaar', 'tera', 'superstar', 'desi', 'kalakar...'], [], ['lagdi', 'mainu', 'jivein', 'ambaradan', 'di', 'queen'], ['meethiyan', 'gallan', 'kare,', 'kudi', 'namkeen'], [], ['lagdi', 'mainu', 'jiven', 'ambaradan', 'di', 'queen'], ['meethiyan', 'gallan', 'kare,', 'kudi', 'namkeen..'], ['lagdi', 'mainu', 'jiven', 'ambaradan', 'di', 'queen'], ['meethiyan', 'gallan', 'kare,', 'kudi', 'namkeen..'], [], ['patla', 'ja', 'lakk', 'tera,', 'lakk', 'nu', 'sambhal', 'ni'], ['one', 'in', 'the', 'million', 'lagdi', 'kamal', 'ni'], ['patla', 'ja', 'lakk', 'tera', 'lakk', 'nu', 'sambhal', 'ni'], ['one', 'in', 'the', 'million', 'lagdi', 'kamaal', 'ni'], ['lagdi', 'kamaal', 'ni', 'hoya', 'bura', 'haal', 'ni'], ['hoya', 'bura', 'haal', 'ni'], [], ['tu', 'aaja', 'mere', 'close'], ['milta', 'na', 'mauka', 'roz'], ['i', 'want', 'you', 'my', 'baby'], ['mujhe', 'de', 'de', 'love', 'dose'], [], ['tu', 'aajaa', 'mere', 'close'], ['milta', 'na', 'mauka', 'rozz'], ['i', 'want', 'you', 'my', 'baby'], ['mujhe', 'de', 'de', 'love', 'dose'], [], ['yeah..!'], ['lagdi', 'mennu', 'jiven', 'ambaradan', 'di', 'queen'], ['meethiyan', 'gallan', 'kare,', 'kudi', 'namkeen'], ['lagdi', 'mainu', 'jiven', 'ambaradan', 'di', 'queen'], ['meethiyan', 'gallan', 'kare,', 'kudi', 'namkeen'], [], [], ['ye', 'chand', 'sa', 'roshan', 'chehra'], ['baalon', 'ka', 'rang', 'sunehara'], ['kaise', 'dekhun', 'teri', 'aankhen'], ['aankhon', 'pe', 'chashme', 'ka', 'pehra'], [], ['ye', 'chand', 'sa', 'roshan', 'chehra'], ['baalon', 'ka', 'rang', 'sunehraa'], ['kaise', 'dekhoon', 'teri', 'aankhein'], ['aankhon', 'pe', 'chashme', 'ka', 'pehra'], [], ['iss', 'chashme', 'ko', 'hata', 'do'], ['aankhon', 'ko', 'mila', 'lo'], ['aankhon', 'ke', 'nashile', 'jaam'], ['aankhon', 'se', 'pila', 'do'], ['lagta', 'hum', 'pehle', 'kabhi', 'miley'], ['ya', 'ho', 'mujhe', 'déjà', 'vu(already', 'seen)'], ['idhar', 'udhar', 'kahan', 'dekhe'], ['girl', 'im', 'talking', 'to', 'you'], [], ['abb', 'aankhon', 'se', 'hataaya', 'chashma'], ['aakhein', 'to', 'milaao', 'ji'], ['duniya', 'waale', 'jo', 'bhi', 'bole'], ['humse', 'na', 'sharmaao', 'ji'], ['ab', 'phone', 'ko', 'uthhaao', 'ji'], ['aur', 'daddy', 'ki', 'millo', 'ji'], ['unke', 'future', 'son-in-law', 'ki'], ['baat', 'unse', 'karwaao', 'ji'], [], ['hello,', 'uncle,', 'namaste'], ['chalo', 'kaam', 'ki', 'baat', 'pe', 'aatein', 'hain'], ['ab', 'aap', 'ye', 'puchhenge', 'ki'], ['aap', 'kitne', 'paise', 'kamate', 'hain'], ['bas', 'jitna', 'aapki', 'beti'], ['ek', 'mahine', 'mein', 'udaati', 'hai'], ['ek', 'hafte', 'me', 'meri', 'gaadi', 'utna', 'tel', 'khaati', 'hai'], [], [], ['hai', 'ghar,', 'hai', 'paisa,', 'hai', 'gaadi'], ['ab', 'do', 'jodon', 'mein', 'ladki', 'bhejo'], ['ladki', 'huyi', 'hamaari'], ['uncle', 'hai', 'ghar,', 'hai', 'paisa,', 'hai', 'gaadi'], ['ab', 'do', 'jodon', 'mein', 'ladki', 'bhejo'], ['ladki', 'huyi', 'humaari,', 'ok', 'bye'], [], ['lagdi', 'ae', 'mainu', 'jiven', 'ambaradan', 'di', 'queen'], ['meethiyan', 'gallan', 'kare,', 'kudi', 'namkeen'], ['lagdi', 'ae', 'mainu', 'jiven', 'ambaradan', 'di', 'queen'], ['meethiyan', 'gallan', 'kare,', 'kudi', 'namkeen..'], [], ['lagdi', 'ae', 'mainu', 'jiven', 'ambaradan', 'di', 'queen'], ['meethiyan', 'gallan', 'kare,', 'kudi', 'namkeen'], ['lagdi', 'ae', 'mainu', 'jiven', 'ambaradan', 'di', 'queen'], ['meethiyan', 'gallan', 'kare,', 'kudi', 'namkeen..'], [], ['ahha..', 'yo', 'yo', 'honey', 'singh'], ['ahaa..'], ['yo', 'yo', 'honey', 'singh...'], [], ['billo', 'rani', 'jawaani', 'teri'], ['billo', 'rani', 'jawaani', 'teri'], [], ['billo', 'raani', 'jawaani', 'teri'], ['just', 'like', 'the', 'fire'], ['main', 'hoon', 'dj', 'so'], ['im', 'gonna', 'take', 'you', 'higher'], [], ['billo', 'raani', 'jawaani', 'teri'], ['just', 'like', 'the', 'fire'], ['main', 'hoon', 'dj', 'so'], ['im', 'gonna', 'take', 'you', 'higher'], [], ['oh', 'baby', 'nachengi', 'floor', 'te,', 'aag', 'laaugi'], ['tu', 'nache', 'ya', 'nache', 'tenu', 'beat', 'nachaugi'], [], ['tonight'], ['baby', 'its', 'your', 'night'], ['jo', 'tu', 'ho', 'mere', 'saath'], ['phir', 'vekhi', 'how', 'i', 'ride'], ['now', 'feel', 'the', 'beat'], [], ['kudi', 'nachdi', 'floor', 'te'], ['paundi', 'ai', 'kamaala'], ['lagdi', 'nasha', 'tu', 'kitta'], ['manali', 'wala..', 'manali', 'wala..', '-', '[2]'], [], ['kardi', 'eh', 'rock', 'n', 'roll'], ['lakk', 'matkaundi', 'golgol'], ['aaundi', 'mere', 'kolkol'], ['chaundi', 'ki', 'eh', 'siddha', 'bol'], [], ['tonight'], ['baby', 'its', 'your', 'night'], ['jo', 'tu', 'ho', 'mere', 'saath..'], ['phir', 'vekhi', 'how', 'i', 'ride..'], ['now', 'feel', 'the', 'beat'], [], ['lagta', 'hum', 'pehle', 'mile'], ['ya', 'huaa', 'mujhe', 'deja', 'vu'], ['idhar', 'udhar', 'kahaan', 'dekhe'], ['girl', 'im', 'talking', 'to', 'you'], [], ['mujhe', 'lagta', 'jaan', 'jaan', 'ke'], ['milti', 'hai', 'tu', 'aksar'], ['poori', 'qayamat', 'hogi'], ['na', 'chhodi', 'hai', 'koi', 'kasar'], ['topto', 'bottom', 'marks'], ['tujhe', 'diye', 'maine', '10', 'out', 'of', '10'], ['kyon', 'nahi', 'chahiye', 'chal,', 'ok', 'then'], [], ['bhare', 'club', 'me', 'reh', 'jaayengi'], ['billo', 'phir', 'kalli', 'tu'], ['kaun', 'sambhalega', 'tujhko'], ['jab', 'ho', 'jaayegi', 'talli', 'tu'], ['thoda', 'hosh', 'mein', 'aa', 'pagli', 'ladki'], ['kar', 'meri', 'baat', 'pe', 'gour'], ['paap', 'ka', 'bhogi', 'na', 'bachayega'], ['macha', 'liyo', 'phir', 'jitna', 'shor'], [], [], ['main', 'hi', 'bachaunga', 'tujhko', 'duniya', 'se'], ['kyun', 'ki', 'main', 'hoon', 'strong'], ['jaise', 'angreji', 'picture', 'mein'], ['ladki', 'ko', 'bachata', 'hai', 'king', 'kong'], ['just', 'like', 'that,', 'bilkul', 'waise'], ['bilkul', 'shaktiman', 'jaise'], ['tujhko', 'rakhunga', 'main', 'baby', 'apni', 'jaan', 'jaise'], ['maine', 'tujhko', 'bachaaya'], ['dekh', 'karde', 'meri', 'chaahat', 'poori'], ['ninyanave(99)', 'ho', 'chuki', 'hai', 'karwa', 'de', 'meri', 'century'], [], ['billo', 'rani', 'jaawani', 'teri'], ['just', 'like', 'a', 'fire'], ['tonight', 'main', 'hoon', 'dj', 'so'], ['im', 'gonna', 'take', 'you', 'higher'], ['billo', 'rani', 'jawaani', 'teri'], ['just', 'like', 'the', 'fire'], ['tonight', 'main', 'hoon', 'dj', 'so'], ['im', 'gonna', 'take', 'you', 'higher'], [], ['baby', 'nachegi', 'floor', 'te'], ['nache', 'na', 'nache', 'tennu', 'beat', 'nachaugi'], [], ['tonight..'], ['baby', 'its', 'your', 'night'], ['jo', 'tu', 'ho', 'mere', 'saath..'], ['phir', 'vekhi', 'how', 'i', 'ride..'], ['now', 'feel', 'the', 'beat...'], [], ['chal', 'mere', 'ghar'], ['top', 'floor', 'penthouse'], ['baby', 'girl', 'mere', 'ghar'], ['top', 'floor', 'penthouse'], ['baby', 'girl', 'chal', 'mere', 'ghar'], ['deri', 'na', 'kar', 'o', 'baby', 'girl'], [], ['baby', 'girl'], ['baby', 'i', 'want', 'you', 'o..'], ['baby', 'girl', 'i', 'want', 'you..'], [], ['aaja', 'main', 'leke', 'chaloon', 'tujhko', 'apne', 'ghar'], ['top', 'floor', 'penthouse', 'naa', 'na', 'kar'], ['one', 'million', 'in', 'a', 'night', 'i', 'can', 'spent'], ['kyunki', 'ab', 'main', 'hun', 'millionaire', 'baby', 'girl'], ['o', 'baby', 'i', 'want', 'you', 'o..'], ['naa', 'na', 'kar', 'o', 'baby', 'i', 'want', 'you', 'o..'], ['naa', 'na', 'kar..'], [], ['mera', 'ghar', 'disneyland', 'paris'], ['hai', 'chhat', 'pe', 'ek', 'pool'], ['on', 'my', 'terrace', 'hai', 'itna', 'lavish', 'ghar'], ['but', 'rahun', 'main', 'akela'], ['cause', 'i', 'believe', 'in', 'love'], ['no', 'marriage'], [], [], ['aaja', 'main', 'leke', 'chalun', 'tujhko', 'apne', 'ghar'], ['top', 'floor', 'penthouse', 'na', 'na', 'kar'], ['one', 'million', 'in', 'a', 'night', 'i', 'can', 'spent'], ['kyunki', 'ab', 'main', 'hun', 'millionare', 'baby', 'girl'], ['kyunki', 'ab', 'main', 'hun', 'millionare', 'baby', 'girl'], ['kyunki', 'ab', 'main', 'hun', 'millionare', 'baby', 'girl'], [], ['wallah', 'hai', 'husn', 'irani'], ['hai', 'lagti', 'hai', 'aise'], ['ho', 'red', 'wine', 'purani'], ['main', 'hoon', 'wo', 'johri', 'jisne', 'keemat', 'teri', 'jaani'], ['tarasha', 'husan', 'tera', 'chukash', 'jawaani'], [], ['girl', 'i', 'want', 'you'], ['o', 'girl', 'i', 'want', 'you'], ['girl', 'i', 'want', 'you..'], ['o', 'baby', 'girl...'], [], ['mere', 'daftar', 'daftar', 'daftar', 'ki', 'girl'], ['karti', 'hai', 'ishare', 'aksar'], ['aksar', 'aksar', 'aksar', 'aksar'], ['mere', 'daftar', 'daftar', 'daftar', 'ki', 'girl'], ['karti', 'hai', 'ishare', 'aksar'], ['aksar', 'aksar', 'aksar', 'aksar'], [], ['mere', 'daftar', 'daftar', 'daftar', 'ki', 'girl'], ['karti', 'hai', 'ishaare', 'aksar'], ['baby', 'bas', 'kar,', 'bas', 'kar'], ['baby', 'bas', 'kar,', 'bas', 'kar'], [], ['mere', 'daftar', 'mein', 'aksar'], ['karti', 'hai', 'ishaare', 'haskar'], ['baby', 'bas', 'kar', 'tere', 'chakkar'], ['main', 'phaskar', 'jaayengi', 'naukri'], ['pichli', 'naukri', 'bhi', 'thi', 'jo', 'chhooti'], ['reason', 'tha', 'ek', 'chhokri'], ['so', 'no', 'more', 'working', 'pleaser', 'together'], ['tujhe', 'ghuma', 'jaaoon', 'jab', 'badiya', 'weather'], [], ['mere', 'saath', 'jab', 'weekend', 'bitaayegi'], ['wo', 'nazaare', 'tu', 'bhool', 'na', 'paayegi'], ['sakhi', 'saheli', 'ko', 'sabko', 'batayegi'], ['ek', 'baari', 'dekh', 'legi', 'na'], ['to', 'tu', 'paagal', 'ho', 'jaayegi'], ['to', 'tu', 'paagal', 'ho', 'jaayegi'], [], ['mere', 'daftar', 'daftar', 'daftar', 'ki', 'girl'], ['karti', 'hai', 'ishaare', 'aksar'], ['aksar', 'aksar', 'aksar', 'aksar'], ['mere', 'daftar', 'daftar', 'daftar', 'ki', 'girl'], ['karti', 'hai', 'ishare', 'aksar'], ['baby', 'bas', 'kar,', 'bas', 'kar'], ['baby', 'bas', 'kar,', 'bas', 'kar..'], [], ['tere', 'pichhe', 'laga', 'hai', 'ceo'], ['usko', 'pichhe', 'lagne', 'do'], ['usko', 'sadne', 'do'], ['tere', 'pichhe', 'laga', 'hai', 'ceo'], ['usko', 'pichhe', 'lagne', 'do'], ['usko', 'sadne', 'do'], [], [], ['ahh..'], ['maana', 'tere', 'pichhe', 'laga', 'ceo'], ['usko', 'pichhe', 'lage', 'rahne', 'do'], ['apna', 'dhyan', 'bas', 'mujhpe', 'rakho'], ['aur', 'usko', 'sadne', 'do'], ['kyuki', 'mujhe', 'chhod', 'tu', 'uske', 'paas', 'jaayegi'], ['wahan', 'pe', 'kahan', 'tu', 'ye', 'sukh', 'paayegi'], ['aakhir', 'mere', 'pas', 'wapas', 'tu', 'aayengi'], ['aur', 'aa', 'gayi', 'na,', 'toh', 'tu', 'pagal', 'ho', 'jaayegi'], ['tujhe', 'pehle', 'bhi', 'bataaya', 'maine'], ['ki', 'tu', 'paagal', 'ho', 'jayegi'], ['tujhe', 'pehle', 'bhi', 'bataya', 'tha'], ['tu', 'paagal', 'ho', 'jayegi'], [], ['mere', 'daftar', 'daftar', 'daftar', 'ki', 'girl'], ['karti', 'hai', 'ishare', 'aksar'], ['aksar', 'aksar', 'aksar', 'aksar'], [], ['mere', 'daftar', 'daftar', 'daftar', 'ki', 'girl'], ['karti', 'hai', 'ishare', 'aksar'], ['aksar', 'aksar', 'aksar', 'aksar..'], [], ['mere', 'daftar', 'daftar', 'daftar', 'ki', 'girl'], ['karti', 'hai', 'ishaare', 'aksar'], ['baby', 'bas', 'kar,', 'bas', 'kar'], ['baby', 'bas', 'kar,', 'bas', 'kar...'], [], ['gora', 'roop', 'ae', 'lashka', 'maare'], ['baby', 'you', 'are', 'my', 'sunshine'], ['kyun', 'tanning', 'kardi', 'mere', 'le'], ['leave', 'it', 'baby', 'you', 'so', 'fine'], [], ['tu', 'hai', 'sabse', 'haseen'], ['sea', 'water', 'si', 'namkeen,', 'janasheen'], ['main', 'hoon', 'raja', 'aur', 'tu', 'queen'], [], ['tu', 'hai', 'sabse', 'haseen'], ['sea', 'water', 'si', 'namkeen,', 'janasheen'], ['main', 'hoon', 'raja', 'aur', 'tu', 'queen'], [], ['thoda', 'dekh', 'idhar,', 'thoda', 'udhar'], ['logon', 'ki', 'hum', 'dono', 'pe', 'hai', 'nazar'], ['mujhe', 'lagta', 'hai..'], ['vodka', 'ka', 'hai', 'ye', 'asar'], ['tera', 'gundwa', 'sareer,', 'baby', 'like', 'yo', 'body'], ['trust', 'me', 'girl', 'you', 'so', 'hottie'], ['aa..', 'aa..', 'hottie'], ['meri', 'jaan', 'you', 'so', 'hottie'], [], ['kaatil', 'ye', 'aankhe', 'teri'], ['mera', 'dil', 'maane', 'na', 'meri'], ['tujhse', 'ye', 'kehta', 'jaaye'], ['ban', 'ja', 'mehbooba', 'meri'], [], ['kaatil', 'ye', 'aankhe', 'teri'], ['mera', 'dil', 'maane', 'na', 'meri'], ['tujhse', 'ye', 'kehta', 'jaaye'], ['ban', 'ja', 'mehbooba', 'meri'], ['aa..', 'aaa..', 'aa..', 'aaa..'], [], ['gora', 'roop', 'ae', 'lishka', 'maare'], ['baby', 'you', 'are', 'my', 'sunshine'], ['kyun', 'tanning', 'kardi', 'mere', 'layi'], ['leave', 'it', 'baby', 'you', 'so', 'fine'], [], [], ['tu', 'hai', 'sabse', 'haseen'], ['sea', 'water', 'si', 'namkeen,', 'janasheen'], ['main', 'hoon', 'raja', 'aur', 'tu', 'queen'], ['tu', 'hai', 'sabse', 'haseen'], ['sea', 'water', 'si', 'namkeen,', 'janasheen'], ['main', 'hoon', 'raja', 'aur', 'tu', 'queen'], [], ['thoda', 'dekh', 'idhar,', 'thoda', 'udhar'], ['logon', 'ki', 'hum', 'dono', 'pe', 'hai', 'nazar'], ['mujhe', 'lagta', 'hai..'], ['vodka', 'ka', 'hai', 'ye', 'asar'], [], ['tera', 'gundwa', 'sareer,', 'baby', 'like', 'yo', 'body'], ['trust', 'me', 'girl', 'you', 'so', 'hottie'], ['aa..', 'aa..', 'hottie'], ['meri', 'jaan', 'you', 'so', 'hottie'], [], ['leave', 'it', 'leave', 'it', 'leave', 'it..'], ['you', 'so', 'fine..'], ['leave', 'it', 'leave', 'it', 'leave', 'it..'], ['you', 'so', 'fine..'], [], ['leave', 'it', 'leave', 'it', 'leave', 'it..'], ['you', 'so', 'fine...']]\n"
     ]
    }
   ],
   "source": [
    "import numpy as np\n",
    "import gensim\n",
    "import string\n",
    "\n",
    "from keras.callbacks import LambdaCallback\n",
    "from keras.layers.recurrent import LSTM\n",
    "from keras.layers.embeddings import Embedding\n",
    "from keras.layers import Dense, Activation\n",
    "from keras.models import Sequential\n",
    "from keras.utils.data_utils import get_file\n",
    "from keras.layers import Dropout\n",
    "\n",
    "max_sentence_len = 40\n",
    "sentences = [[word for word in doc.lower().translate(string.punctuation).split()[:max_sentence_len]] for doc in docs]\n",
    "print('Num sentences:', len(sentences))\n",
    "print(sentences)\n"
   ]
  },
  {
   "cell_type": "code",
   "execution_count": 26,
   "metadata": {},
   "outputs": [
    {
     "name": "stdout",
     "output_type": "stream",
     "text": [
      "\n",
      "Training word2vec...\n",
      "  tujhe -> maanga (0.99), baba (0.99), peer (0.99), bataaya (0.98), pehle (0.98), maine (0.98), manga (0.98), bataya (0.98)\n",
      "  meri -> khinch, (0.97), kismat (0.97), phooti (0.97), photo (0.97), hogi (0.97), teri (0.96), qayamat (0.95), aankhe (0.94)\n"
     ]
    },
    {
     "name": "stderr",
     "output_type": "stream",
     "text": [
      "C:\\Users\\adity\\AppData\\Roaming\\Python\\Python36\\site-packages\\ipykernel_launcher.py:8: DeprecationWarning: Call to deprecated `most_similar` (Method will be removed in 4.0.0, use self.wv.most_similar() instead).\n",
      "  \n"
     ]
    }
   ],
   "source": [
    "print('\\nTraining word2vec...')\n",
    "word_model = gensim.models.Word2Vec(sentences, size=100, min_count=1, window=5, iter=100)\n",
    "pretrained_weights = word_model.wv.syn0\n",
    "vocab_size, emdedding_size = pretrained_weights.shape\n",
    "print('Result embedding shape:', pretrained_weights.shape)\n",
    "print('Checking similar words:')\n",
    "for word in ['tujhe','meri']:\n",
    "    most_similar = ', '.join('%s (%.2f)' % (similar, dist) for similar, dist in word_model.most_similar(word)[:8])\n",
    "    print('  %s -> %s' % (word, most_similar))\n",
    "\n",
    "\n",
    "def word2idx(word):\n",
    "    return word_model.wv.vocab[word].index\n",
    "def idx2word(idx):\n",
    "    return word_model.wv.index2word[idx]\n",
    "\n"
   ]
  },
  {
   "cell_type": "code",
   "execution_count": 4,
   "metadata": {},
   "outputs": [
    {
     "name": "stdout",
     "output_type": "stream",
     "text": [
      "\n",
      "Preparing the data for LSTM...\n",
      "train_x shape: (645, 40)\n",
      "train_y shape: (645,)\n"
     ]
    }
   ],
   "source": [
    "\n",
    "print('\\nPreparing the data for LSTM...')\n",
    "f = open('C:/Users/adity/Downloads/Yo Yo Honey Singh.txt', 'r')\n",
    "docs=f.read().split(\"\\n\")\n",
    "max_sentence_len = 40\n",
    "sentences = [[word for word in doc.lower().translate(string.punctuation).split()[:max_sentence_len]] for doc in docs]\n",
    "\n",
    "train_x = np.zeros([len(sentences), max_sentence_len], dtype=np.int32)\n",
    "train_y = np.zeros([len(sentences)], dtype=np.int32)\n",
    "for i, sentence in enumerate(sentences):\n",
    "    for t, word in enumerate(sentence[:-1]):\n",
    "        train_x[i, t] = word2idx(word)\n",
    "        train_y[i] = word2idx(sentence[-1])\n",
    "print('train_x shape:', train_x.shape)\n",
    "print('train_y shape:', train_y.shape)"
   ]
  },
  {
   "cell_type": "code",
   "execution_count": 21,
   "metadata": {},
   "outputs": [
    {
     "name": "stdout",
     "output_type": "stream",
     "text": [
      "WARNING:tensorflow:From C:\\Users\\adity\\AppData\\Roaming\\Python\\Python36\\site-packages\\keras\\backend\\tensorflow_backend.py:3445: calling dropout (from tensorflow.python.ops.nn_ops) with keep_prob is deprecated and will be removed in a future version.\n",
      "Instructions for updating:\n",
      "Please use `rate` instead of `keep_prob`. Rate should be set to `rate = 1 - keep_prob`.\n"
     ]
    }
   ],
   "source": [
    "model = Sequential()\n",
    "model.add(Embedding(input_dim=vocab_size, output_dim=emdedding_size, \n",
    "                    weights=[pretrained_weights]))\n",
    "model.add(LSTM(units=emdedding_size))\n",
    "model.add(Dropout(0.2))\n",
    "model.add(Dense(units=vocab_size))\n",
    "model.add(Activation('softmax'))\n",
    "model.compile(optimizer='adam', loss='sparse_categorical_crossentropy')"
   ]
  },
  {
   "cell_type": "code",
   "execution_count": 22,
   "metadata": {},
   "outputs": [],
   "source": [
    "def sample(preds, temperature=1.0):\n",
    "    if temperature <= 0:\n",
    "        return np.argmax(preds)\n",
    "    preds = np.asarray(preds).astype('float64')\n",
    "    preds = np.log(preds) / temperature\n",
    "    exp_preds = np.exp(preds)\n",
    "    preds = exp_preds / np.sum(exp_preds)\n",
    "    probas = np.random.multinomial(1, preds, 1)\n",
    "    return np.argmax(probas)\n",
    "\n",
    "def generate_next(text, num_generated=10):\n",
    "    word_idxs = [word2idx(word) for word in text.lower().split()]\n",
    "    for i in range(num_generated):\n",
    "        prediction = model.predict(x=np.array(word_idxs))\n",
    "        idx = sample(prediction[-1], temperature=0.7)\n",
    "        word_idxs.append(idx)\n",
    "    return ' '.join(idx2word(idx) for idx in word_idxs)"
   ]
  },
  {
   "cell_type": "code",
   "execution_count": 23,
   "metadata": {},
   "outputs": [
    {
     "data": {
      "text/plain": [
       "'tujhe huyi leke aa shot it, then lagti aajao penthouse ai'"
      ]
     },
     "execution_count": 23,
     "metadata": {},
     "output_type": "execute_result"
    }
   ],
   "source": [
    "generate_next('tujhe',10)"
   ]
  },
  {
   "cell_type": "code",
   "execution_count": 24,
   "metadata": {},
   "outputs": [
    {
     "name": "stdout",
     "output_type": "stream",
     "text": [
      "Epoch 1/40\n",
      "645/645 [==============================] - 1s 2ms/step - loss: 6.5239\n",
      "\n",
      "Generating text after epoch: 0\n",
      "Teri aankhein... -> teri aankhein nachdi honey jaawani you haskar aankhein all nahi need.. aakhir\n",
      "Epoch 2/40\n",
      "645/645 [==============================] - 0s 721us/step - loss: 6.1099\n",
      "\n",
      "Generating text after epoch: 1\n",
      "Teri aankhein... -> teri aankhein keemat singh... thi qayamat sai muk bachaunga gaadi na ishare\n",
      "Epoch 3/40\n",
      "645/645 [==============================] - 0s 716us/step - loss: 5.6652\n",
      "\n",
      "Generating text after epoch: 2\n",
      "Teri aankhein... -> teri aankhein gaadi lagta aakhir thi coconut o.. it.. nache kahaan haa..\n",
      "Epoch 4/40\n",
      "645/645 [==============================] - 0s 685us/step - loss: 5.1880\n",
      "\n",
      "Generating text after epoch: 3\n",
      "Teri aankhein... -> teri aankhein yeh tennu pe da chhad he.. kar kahaan legi karwa\n",
      "Epoch 5/40\n",
      "645/645 [==============================] - 0s 750us/step - loss: 4.8042\n",
      "\n",
      "Generating text after epoch: 4\n",
      "Teri aankhein... -> teri aankhein dar jo that, hottie haar just milaake kahan future bachata\n",
      "Epoch 6/40\n",
      "645/645 [==============================] - 0s 707us/step - loss: 4.6674\n",
      "\n",
      "Generating text after epoch: 5\n",
      "Teri aankhein... -> teri aankhein how pagal kalakar kitta id, im khaati jaaye it, talking\n",
      "Epoch 7/40\n",
      "645/645 [==============================] - 0s 721us/step - loss: 4.5809\n",
      "\n",
      "Generating text after epoch: 6\n",
      "Teri aankhein... -> teri aankhein har sadne karna lashka paani uncle, lakk abb let's jado\n",
      "Epoch 8/40\n",
      "645/645 [==============================] - 0s 759us/step - loss: 4.5718\n",
      "\n",
      "Generating text after epoch: 7\n",
      "Teri aankhein... -> teri aankhein nu karo it kasar jind jayegi iss seen) rokega aaya\n",
      "Epoch 9/40\n",
      "645/645 [==============================] - 1s 866us/step - loss: 4.5422\n",
      "\n",
      "Generating text after epoch: 8\n",
      "Teri aankhein... -> teri aankhein karti bye paisa, l-ungi lageya like dar ride.. deni hain\n",
      "Epoch 10/40\n",
      "645/645 [==============================] - 1s 837us/step - loss: 4.5284\n",
      "\n",
      "Generating text after epoch: 9\n",
      "Teri aankhein... -> teri aankhein vekhi lipper lock phooti se yaar.. aajaa l-ungi angreji chaloon\n",
      "Epoch 11/40\n",
      "645/645 [==============================] - 1s 813us/step - loss: 4.5344\n",
      "\n",
      "Generating text after epoch: 10\n",
      "Teri aankhein... -> teri aankhein the ae aankhen puchhenge jaawani patla hamaari meethiyan mujhko pichli\n",
      "Epoch 12/40\n",
      "645/645 [==============================] - 0s 739us/step - loss: 4.5262\n",
      "\n",
      "Generating text after epoch: 11\n",
      "Teri aankhein... -> teri aankhein gour fine muchho hai.. milaao ye so pehra express matkaundi\n",
      "Epoch 13/40\n",
      "645/645 [==============================] - 1s 789us/step - loss: 4.5193\n",
      "\n",
      "Generating text after epoch: 12\n",
      "Teri aankhein... -> teri aankhein paas baari kolkol apna kolkol paap tel déjà kabhi wapas\n",
      "Epoch 14/40\n",
      "645/645 [==============================] - 0s 741us/step - loss: 4.5001\n",
      "\n",
      "Generating text after epoch: 13\n",
      "Teri aankhein... -> teri aankhein tel gour ton batayegi paagal so fans ride nahi banaake\n",
      "Epoch 15/40\n",
      "645/645 [==============================] - 0s 725us/step - loss: 4.5061\n",
      "\n",
      "Generating text after epoch: 14\n",
      "Teri aankhein... -> teri aankhein ladki the it.. karlo maani.. king lagta jaayengi hogi le\n",
      "Epoch 16/40\n",
      "645/645 [==============================] - 0s 741us/step - loss: 4.5043\n",
      "\n",
      "Generating text after epoch: 15\n",
      "Teri aankhein... -> teri aankhein gonna jaayenge time layi johri tera, mehbooba - millo beti\n",
      "Epoch 17/40\n",
      "645/645 [==============================] - 1s 778us/step - loss: 4.5226\n",
      "\n",
      "Generating text after epoch: 16\n",
      "Teri aankhein... -> teri aankhein then ok khol maana nede, my yi unse pani chaloon\n",
      "Epoch 18/40\n",
      "645/645 [==============================] - 0s 728us/step - loss: 4.5077\n",
      "\n",
      "Generating text after epoch: 17\n",
      "Teri aankhein... -> teri aankhein round abb the la kolkol bataaya rahun cause chashme putt\n",
      "Epoch 19/40\n",
      "645/645 [==============================] - 1s 784us/step - loss: 4.5165\n",
      "\n",
      "Generating text after epoch: 18\n",
      "Teri aankhein... -> teri aankhein dose jo charger ka kong karo ja gonna blue pyaari\n",
      "Epoch 20/40\n",
      "645/645 [==============================] - 1s 864us/step - loss: 4.5265\n",
      "\n",
      "Generating text after epoch: 19\n",
      "Teri aankhein... -> teri aankhein nu wait marks karde golgol superstar pehe kar, kismat roop\n",
      "Epoch 21/40\n",
      "645/645 [==============================] - 1s 914us/step - loss: 4.5095\n",
      "\n",
      "Generating text after epoch: 20\n",
      "Teri aankhein... -> teri aankhein namkeen wapas milti mennu singh gayi now top ja can\n",
      "Epoch 22/40\n",
      "645/645 [==============================] - 1s 812us/step - loss: 4.5148\n",
      "\n",
      "Generating text after epoch: 21\n",
      "Teri aankhein... -> teri aankhein namaste night roti janasheen sochugi biscuit mein vekhi aaundi thoda\n",
      "Epoch 23/40\n",
      "645/645 [==============================] - 0s 728us/step - loss: 4.5084\n",
      "\n",
      "Generating text after epoch: 22\n",
      "Teri aankhein... -> teri aankhein tune wo what waale bachata nachaugi on jaan ni lock\n",
      "Epoch 24/40\n",
      "645/645 [==============================] - 0s 725us/step - loss: 4.5161\n",
      "\n",
      "Generating text after epoch: 23\n",
      "Teri aankhein... -> teri aankhein miley mujhse penthouse haa.. naukri club tera bas mile ki\n",
      "Epoch 25/40\n",
      "645/645 [==============================] - 0s 671us/step - loss: 4.5233\n",
      "\n",
      "Generating text after epoch: 24\n",
      "Teri aankhein... -> teri aankhein paap ya kahan fine.. miss shaktiman let's namkeen, pagal kitta\n",
      "Epoch 26/40\n",
      "645/645 [==============================] - 0s 736us/step - loss: 4.5125\n",
      "\n",
      "Generating text after epoch: 25\n",
      "Teri aankhein... -> teri aankhein night chaloon beat... on, desi kar... kar.. irani he nede,\n",
      "Epoch 27/40\n",
      "645/645 [==============================] - 0s 688us/step - loss: 4.5031\n",
      "\n",
      "Generating text after epoch: 26\n",
      "Teri aankhein... -> teri aankhein trust raja aajao step penthouse nachaugi akela bye ok haar\n",
      "Epoch 28/40\n",
      "645/645 [==============================] - 0s 660us/step - loss: 4.5209\n",
      "\n",
      "Generating text after epoch: 27\n",
      "Teri aankhein... -> teri aankhein ji quicker saheli ride dekhun fine... billo it.. gayi.. akela\n",
      "Epoch 29/40\n",
      "645/645 [==============================] - 1s 809us/step - loss: 4.5108\n",
      "\n",
      "Generating text after epoch: 28\n",
      "Teri aankhein... -> teri aankhein bottle piche music dhyan weather water bataya la tha weather\n",
      "Epoch 30/40\n",
      "645/645 [==============================] - 0s 693us/step - loss: 4.5181\n",
      "\n",
      "Generating text after epoch: 29\n",
      "Teri aankhein... -> teri aankhein ghar, bag ahaa.. apna jitna ishare ho.. like layi yi\n",
      "Epoch 31/40\n",
      "645/645 [==============================] - 0s 705us/step - loss: 4.5134\n",
      "\n",
      "Generating text after epoch: 30\n",
      "Teri aankhein... -> teri aankhein tu jado care jee dance daftar nu jivein kad dose\n",
      "Epoch 32/40\n",
      "645/645 [==============================] - 0s 728us/step - loss: 4.5003\n",
      "\n",
      "Generating text after epoch: 31\n",
      "Teri aankhein... -> teri aankhein tere jitna keemat aaundi alright apna chhad hold aankhe locker\n",
      "Epoch 33/40\n",
      "645/645 [==============================] - 0s 646us/step - loss: 4.5164\n",
      "\n",
      "Generating text after epoch: 32\n",
      "Teri aankhein... -> teri aankhein of care liquor de gaadi weather déjà music don't lagaake\n",
      "Epoch 34/40\n",
      "645/645 [==============================] - 0s 700us/step - loss: 4.4952\n",
      "\n",
      "Generating text after epoch: 33\n",
      "Teri aankhein... -> teri aankhein yaar.. maane bura siddha party he.. top that's jitna superstar,\n",
      "Epoch 35/40\n",
      "645/645 [==============================] - 0s 708us/step - loss: 4.4960\n",
      "\n",
      "Generating text after epoch: 34\n",
      "Teri aankhein... -> teri aankhein jaam step si itna ni i hold believe 10 it..\n",
      "Epoch 36/40\n",
      "645/645 [==============================] - 0s 663us/step - loss: 4.5049\n",
      "\n",
      "Generating text after epoch: 35\n",
      "Teri aankhein... -> teri aankhein jayegi bataya hafte singh... baba sochugi superstar, slipper chaloon arey\n",
      "Epoch 37/40\n",
      "645/645 [==============================] - 0s 671us/step - loss: 4.5132\n",
      "\n",
      "Generating text after epoch: 36\n",
      "Teri aankhein... -> teri aankhein der puchhenge ai pehe aaa jind kon der tarasha lagdi\n",
      "Epoch 38/40\n",
      "645/645 [==============================] - 0s 612us/step - loss: 4.4964\n",
      "\n",
      "Generating text after epoch: 37\n",
      "Teri aankhein... -> teri aankhein si saath aana me haa.. gayi.. singh... pani la jado\n",
      "Epoch 39/40\n",
      "645/645 [==============================] - 0s 663us/step - loss: 4.5053\n",
      "\n",
      "Generating text after epoch: 38\n",
      "Teri aankhein... -> teri aankhein pyaari teri jaayegi wait saari mummy ho... jawaani kar... close\n",
      "Epoch 40/40\n"
     ]
    },
    {
     "name": "stdout",
     "output_type": "stream",
     "text": [
      "645/645 [==============================] - 0s 625us/step - loss: 4.4935\n",
      "\n",
      "Generating text after epoch: 39\n",
      "Teri aankhein... -> teri aankhein hal quicker now passport hottie karna fine.. thoda yacht lo\n"
     ]
    },
    {
     "data": {
      "text/plain": [
       "<keras.callbacks.History at 0x1fe8a6568d0>"
      ]
     },
     "execution_count": 24,
     "metadata": {},
     "output_type": "execute_result"
    }
   ],
   "source": [
    "def on_epoch_end(epoch, _):\n",
    "    print('\\nGenerating text after epoch: %d' % epoch)\n",
    "    texts = ['Teri aankhein']\n",
    "    for text in texts:\n",
    "        sample = generate_next(text)\n",
    "        print('%s... -> %s' % (text, sample))\n",
    "model.fit(train_x, train_y,\n",
    "          batch_size=128,\n",
    "          epochs=40,\n",
    "          callbacks=[LambdaCallback(on_epoch_end=on_epoch_end)])"
   ]
  },
  {
   "cell_type": "code",
   "execution_count": 33,
   "metadata": {},
   "outputs": [
    {
     "data": {
      "text/plain": [
       "'love book trust ye ho, sambhalega chal hoon jaan laga ji'"
      ]
     },
     "execution_count": 33,
     "metadata": {},
     "output_type": "execute_result"
    }
   ],
   "source": [
    "generate_next('Love')"
   ]
  },
  {
   "cell_type": "code",
   "execution_count": null,
   "metadata": {},
   "outputs": [],
   "source": []
  },
  {
   "cell_type": "code",
   "execution_count": null,
   "metadata": {},
   "outputs": [],
   "source": []
  },
  {
   "cell_type": "code",
   "execution_count": null,
   "metadata": {},
   "outputs": [],
   "source": []
  },
  {
   "cell_type": "code",
   "execution_count": null,
   "metadata": {},
   "outputs": [],
   "source": []
  }
 ],
 "metadata": {
  "kernelspec": {
   "display_name": "Python 3",
   "language": "python",
   "name": "python3"
  },
  "language_info": {
   "codemirror_mode": {
    "name": "ipython",
    "version": 3
   },
   "file_extension": ".py",
   "mimetype": "text/x-python",
   "name": "python",
   "nbconvert_exporter": "python",
   "pygments_lexer": "ipython3",
   "version": "3.6.4"
  }
 },
 "nbformat": 4,
 "nbformat_minor": 2
}
